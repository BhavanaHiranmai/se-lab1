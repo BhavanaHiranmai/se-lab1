{
 "cells": [
  {
   "cell_type": "code",
   "execution_count": null,
   "id": "1f709e69-7425-494c-ba4c-381ee2c21ed2",
   "metadata": {},
   "outputs": [],
   "source": [
    "a = 1.2\n",
    "b = -0.5\n",
    "c = 3.0\n",
    "x = 5.5\n",
    "\n",
    "\n",
    "y = a * x**2 + b * x + c\n",
    "print(f\"Predicted weather variable at x = {x}: {y}\")"
   ]
  }
 ],
 "metadata": {
  "kernelspec": {
   "display_name": "Python 3 (ipykernel)",
   "language": "python",
   "name": "python3"
  },
  "language_info": {
   "codemirror_mode": {
    "name": "ipython",
    "version": 3
   },
   "file_extension": ".py",
   "mimetype": "text/x-python",
   "name": "python",
   "nbconvert_exporter": "python",
   "pygments_lexer": "ipython3",
   "version": "3.13.5"
  }
 },
 "nbformat": 4,
 "nbformat_minor": 5
}
