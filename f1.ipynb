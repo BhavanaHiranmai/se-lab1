{
 "cells": [
  {
   "cell_type": "code",
   "execution_count": null,
   "id": "5796ef15-df0e-4057-a5a8-62ab645f5651",
   "metadata": {},
   "outputs": [],
   "source": [
    "a = float(input(\"Enter value for a: \"))\n",
    "b = float(input(\"Enter value for b: \"))\n",
    "c = float(input(\"Enter value for c: \"))\n",
    "x = float(input(\"Enter value for x : \"))\n",
    "\n",
    "y = a * x**2 + b * x + c\n",
    "print(f\"Predicted weather variable at x = {x}: {y}\")\n"
   ]
  }
 ],
 "metadata": {
  "kernelspec": {
   "display_name": "Python 3 (ipykernel)",
   "language": "python",
   "name": "python3"
  },
  "language_info": {
   "codemirror_mode": {
    "name": "ipython",
    "version": 3
   },
   "file_extension": ".py",
   "mimetype": "text/x-python",
   "name": "python",
   "nbconvert_exporter": "python",
   "pygments_lexer": "ipython3",
   "version": "3.13.5"
  }
 },
 "nbformat": 4,
 "nbformat_minor": 5
}
